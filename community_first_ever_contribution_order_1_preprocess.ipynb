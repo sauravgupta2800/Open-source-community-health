{
 "cells": [
  {
   "cell_type": "markdown",
   "metadata": {},
   "source": [
    "We need to have community_engagement_records.csv first before we start with 'community_first_ever_contribution'"
   ]
  },
  {
   "cell_type": "code",
   "execution_count": 2,
   "metadata": {},
   "outputs": [],
   "source": [
    "import pandas as pd\n",
    "\n",
    "df = pd.read_csv('community_engagement_records.csv')\n",
    "df['datetime_created_at'] = pd.to_datetime(df['created_at'])\n",
    "df = df.sort_values(by='datetime_created_at', ascending=False)\n",
    "df['modified_userlogin'] = df['Name'] + '-' + df['ecosystem'] + '-' + df['userlogin']\n",
    "filtered_data = df[~df['author_association'].isin([\"COLLABORATOR\", \"MEMBER\", \"OWNER\"])]\n",
    "filtered_data = filtered_data[filtered_data['usertype'].isin([\"User\"])]\n",
    "\n",
    "unique_df = filtered_data.drop_duplicates(subset=['userlogin'], keep='first')[['userlogin', 'created_at','ecosystem']]\n",
    "\n",
    "unique_df.to_csv('community_first_ever_contribution_unique_userlogin.csv', index=False)\n"
   ]
  }
 ],
 "metadata": {
  "kernelspec": {
   "display_name": "Python 3",
   "language": "python",
   "name": "python3"
  },
  "language_info": {
   "codemirror_mode": {
    "name": "ipython",
    "version": 3
   },
   "file_extension": ".py",
   "mimetype": "text/x-python",
   "name": "python",
   "nbconvert_exporter": "python",
   "pygments_lexer": "ipython3",
   "version": "3.10.11"
  }
 },
 "nbformat": 4,
 "nbformat_minor": 2
}
