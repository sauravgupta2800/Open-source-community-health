{
 "cells": [
  {
   "cell_type": "markdown",
   "metadata": {},
   "source": [
    "We need to have make sure you have data set \"community_first_ever_contribution.csv\" first to run this file"
   ]
  },
  {
   "cell_type": "code",
   "execution_count": 25,
   "metadata": {},
   "outputs": [],
   "source": [
    "import pandas as pd\n",
    "import seaborn as sns\n",
    "import matplotlib.pyplot as plt\n"
   ]
  },
  {
   "cell_type": "code",
   "execution_count": 26,
   "metadata": {},
   "outputs": [
    {
     "name": "stdout",
     "output_type": "stream",
     "text": [
      "ecosystem\n",
      "maven       1155\n",
      "npm         1010\n",
      "pypi         619\n",
      "rubygems     144\n",
      "dtype: int64 ecosystem\n",
      "maven       10760\n",
      "npm         11588\n",
      "pypi         6725\n",
      "rubygems     2678\n",
      "dtype: int64\n",
      "ecosystem\n",
      "maven       10.734201\n",
      "npm          8.715913\n",
      "pypi         9.204461\n",
      "rubygems     5.377147\n",
      "dtype: float64\n"
     ]
    },
    {
     "data": {
      "image/png": "[encoded data removed]",
      "text/plain": [
       "<Figure size 1000x600 with 1 Axes>"
      ]
     },
     "metadata": {},
     "output_type": "display_data"
    },
    {
     "name": "stdout",
     "output_type": "stream",
     "text": [
      "       total_count\n",
      "count       2928.0\n",
      "mean           0.0\n",
      "std            0.0\n",
      "min            0.0\n",
      "25%            0.0\n",
      "50%            0.0\n",
      "75%            0.0\n",
      "max            0.0\n"
     ]
    }
   ],
   "source": [
    "# Read the CSV file\n",
    "first_ever_df = pd.read_csv('community_first_ever_contribution.csv')\n",
    "\n",
    "# Filter out rows where 'Bot' or 'bot' is not present in the 'userlogin' column\n",
    "filtered_df = first_ever_df[~first_ever_df['userlogin'].str.contains('Bot|bot', case=False)]\n",
    "\n",
    "# Filter further to get rows where 'total_count' is 0\n",
    "filtered_df_with_zero_past_pr = filtered_df[filtered_df['total_count'] == 0]\n",
    "\n",
    "\n",
    "# Calculate the percentage by ecosystem\n",
    "percentage_by_ecosystem = (filtered_df_with_zero_past_pr.groupby('ecosystem').size() / filtered_df.groupby('ecosystem').size()) * 100\n",
    "\n",
    "print(filtered_df_with_zero_past_pr.groupby('ecosystem').size(), filtered_df.groupby('ecosystem').size())\n",
    "print(percentage_by_ecosystem)\n",
    "colors = ['skyblue', 'lightcoral', 'lightgreen', 'lightsalmon']\n",
    "plt.figure(figsize=(10, 6))\n",
    "percentage_by_ecosystem.plot(kind='bar', color=colors)\n",
    "plt.title('Percentage of Unique new comers contribution to a ecosystem Ecosystem')\n",
    "plt.xlabel('Ecosystem')\n",
    "plt.ylabel('Percentage')\n",
    "plt.show()\n",
    "\n",
    "print(filtered_df_with_zero_past_pr.describe())"
   ]
  },
  {
   "cell_type": "markdown",
   "metadata": {},
   "source": [
    "# 2. Find out the stats around first timer"
   ]
  },
  {
   "cell_type": "code",
   "execution_count": 36,
   "metadata": {},
   "outputs": [
    {
     "name": "stdout",
     "output_type": "stream",
     "text": [
      "                 id         number\n",
      "count  2.845810e+05  284581.000000\n",
      "mean   1.343038e+09   32142.655128\n",
      "std    1.397502e+08   24181.117109\n",
      "min    1.107273e+09       1.000000\n",
      "25%    1.228588e+09    9059.000000\n",
      "50%    1.333892e+09   29782.000000\n",
      "75%    1.467604e+09   49640.000000\n",
      "max    1.583946e+09  101699.000000\n"
     ]
    }
   ],
   "source": [
    "# \n",
    "#  MAIN DATASET \n",
    "#\n",
    "df = pd.read_csv('community_engagement_records.csv')\n",
    "df = df[~df['userlogin'].str.contains('Bot|bot', case=False)]\n",
    "main_df = df[~df['author_association'].isin([\"COLLABORATOR\", \"MEMBER\", \"OWNER\"])]\n",
    "print(main_df.describe())\n",
    "\n"
   ]
  },
  {
   "cell_type": "code",
   "execution_count": 28,
   "metadata": {},
   "outputs": [
    {
     "name": "stdout",
     "output_type": "stream",
     "text": [
      "       total_count\n",
      "count       2928.0\n",
      "mean           0.0\n",
      "std            0.0\n",
      "min            0.0\n",
      "25%            0.0\n",
      "50%            0.0\n",
      "75%            0.0\n",
      "max            0.0\n"
     ]
    }
   ],
   "source": [
    "# \n",
    "#  FIRST EVER CONTRIBUTION\n",
    "#\n",
    "first_ever_df = pd.read_csv('community_first_ever_contribution.csv')\n",
    "filtered_df = first_ever_df[~first_ever_df['userlogin'].str.contains('Bot|bot', case=False)]\n",
    "newcomer_df = filtered_df[filtered_df['total_count'] == 0]\n",
    "\n",
    "print(newcomer_df.describe())"
   ]
  },
  {
   "cell_type": "code",
   "execution_count": 37,
   "metadata": {},
   "outputs": [
    {
     "data": {
      "text/html": [
       "<div>\n",
       "<style scoped>\n",
       "    .dataframe tbody tr th:only-of-type {\n",
       "        vertical-align: middle;\n",
       "    }\n",
       "\n",
       "    .dataframe tbody tr th {\n",
       "        vertical-align: top;\n",
       "    }\n",
       "\n",
       "    .dataframe thead th {\n",
       "        text-align: right;\n",
       "    }\n",
       "</style>\n",
       "<table border=\"1\" class=\"dataframe\">\n",
       "  <thead>\n",
       "    <tr style=\"text-align: right;\">\n",
       "      <th></th>\n",
       "      <th>total_count</th>\n",
       "    </tr>\n",
       "  </thead>\n",
       "  <tbody>\n",
       "    <tr>\n",
       "      <th>count</th>\n",
       "      <td>6942.0</td>\n",
       "    </tr>\n",
       "    <tr>\n",
       "      <th>mean</th>\n",
       "      <td>0.0</td>\n",
       "    </tr>\n",
       "    <tr>\n",
       "      <th>std</th>\n",
       "      <td>0.0</td>\n",
       "    </tr>\n",
       "    <tr>\n",
       "      <th>min</th>\n",
       "      <td>0.0</td>\n",
       "    </tr>\n",
       "    <tr>\n",
       "      <th>25%</th>\n",
       "      <td>0.0</td>\n",
       "    </tr>\n",
       "    <tr>\n",
       "      <th>50%</th>\n",
       "      <td>0.0</td>\n",
       "    </tr>\n",
       "    <tr>\n",
       "      <th>75%</th>\n",
       "      <td>0.0</td>\n",
       "    </tr>\n",
       "    <tr>\n",
       "      <th>max</th>\n",
       "      <td>0.0</td>\n",
       "    </tr>\n",
       "  </tbody>\n",
       "</table>\n",
       "</div>"
      ],
      "text/plain": [
       "       total_count\n",
       "count       6942.0\n",
       "mean           0.0\n",
       "std            0.0\n",
       "min            0.0\n",
       "25%            0.0\n",
       "50%            0.0\n",
       "75%            0.0\n",
       "max            0.0"
      ]
     },
     "execution_count": 37,
     "metadata": {},
     "output_type": "execute_result"
    }
   ],
   "source": [
    "#Merge \n",
    "\n",
    "merged_df = pd.merge(newcomer_df, main_df[['Name', 'userlogin']], on='userlogin', how='left')\n",
    "merged_df.describe()"
   ]
  },
  {
   "cell_type": "code",
   "execution_count": 35,
   "metadata": {},
   "outputs": [
    {
     "data": {
      "text/html": [
       "<div>\n",
       "<style scoped>\n",
       "    .dataframe tbody tr th:only-of-type {\n",
       "        vertical-align: middle;\n",
       "    }\n",
       "\n",
       "    .dataframe tbody tr th {\n",
       "        vertical-align: top;\n",
       "    }\n",
       "\n",
       "    .dataframe thead th {\n",
       "        text-align: right;\n",
       "    }\n",
       "</style>\n",
       "<table border=\"1\" class=\"dataframe\">\n",
       "  <thead>\n",
       "    <tr style=\"text-align: right;\">\n",
       "      <th></th>\n",
       "      <th>userlogin</th>\n",
       "      <th>created_at</th>\n",
       "      <th>havePr</th>\n",
       "      <th>total_count</th>\n",
       "      <th>ecosystem</th>\n",
       "    </tr>\n",
       "  </thead>\n",
       "  <tbody>\n",
       "    <tr>\n",
       "      <th>0</th>\n",
       "      <td>seokgoon28</td>\n",
       "      <td>2023-11-01T22:25:23Z</td>\n",
       "      <td>True</td>\n",
       "      <td>0</td>\n",
       "      <td>maven</td>\n",
       "    </tr>\n",
       "    <tr>\n",
       "      <th>1</th>\n",
       "      <td>ashlynselena</td>\n",
       "      <td>2023-11-01T19:19:19Z</td>\n",
       "      <td>True</td>\n",
       "      <td>0</td>\n",
       "      <td>pypi</td>\n",
       "    </tr>\n",
       "    <tr>\n",
       "      <th>2</th>\n",
       "      <td>crooruhe</td>\n",
       "      <td>2023-11-01T16:58:10Z</td>\n",
       "      <td>True</td>\n",
       "      <td>0</td>\n",
       "      <td>npm</td>\n",
       "    </tr>\n",
       "    <tr>\n",
       "      <th>3</th>\n",
       "      <td>hui730</td>\n",
       "      <td>2023-11-01T13:47:52Z</td>\n",
       "      <td>True</td>\n",
       "      <td>0</td>\n",
       "      <td>maven</td>\n",
       "    </tr>\n",
       "    <tr>\n",
       "      <th>4</th>\n",
       "      <td>kletse</td>\n",
       "      <td>2023-11-01T12:59:44Z</td>\n",
       "      <td>True</td>\n",
       "      <td>0</td>\n",
       "      <td>npm</td>\n",
       "    </tr>\n",
       "  </tbody>\n",
       "</table>\n",
       "</div>"
      ],
      "text/plain": [
       "      userlogin            created_at  havePr  total_count ecosystem\n",
       "0    seokgoon28  2023-11-01T22:25:23Z    True            0     maven\n",
       "1  ashlynselena  2023-11-01T19:19:19Z    True            0      pypi\n",
       "2      crooruhe  2023-11-01T16:58:10Z    True            0       npm\n",
       "3        hui730  2023-11-01T13:47:52Z    True            0     maven\n",
       "4        kletse  2023-11-01T12:59:44Z    True            0       npm"
      ]
     },
     "execution_count": 35,
     "metadata": {},
     "output_type": "execute_result"
    }
   ],
   "source": [
    "\n",
    "merged_df = merged_df[merged_df['total_count'] == 0]\n",
    "\n",
    "merged_df.head()\n",
    "# result_df = merged_df.groupby(['ecosystem', 'modified_userlogin']).size().reset_index(name='count')\n",
    "\n",
    "# # Display the resulting dataframe\n",
    "# result_df = result_df.sort_values(by='count', ascending=False)\n",
    "\n",
    "# print(result_df)"
   ]
  },
  {
   "cell_type": "code",
   "execution_count": null,
   "metadata": {},
   "outputs": [
    {
     "data": {
      "text/plain": [
       "modified_userlogin\n",
       "@angular-devkit/core-npm-Barresider           1\n",
       "@angular-devkit/core-npm-kashyapGit1          1\n",
       "@angular-devkit/core-npm-zdev90               1\n",
       "@angular-devkit/schematics-npm-Barresider     1\n",
       "@angular-devkit/schematics-npm-kashyapGit1    1\n",
       "                                             ..\n",
       "zone.js-npm-threebb100                        1\n",
       "zone.js-npm-tpeiris6                          1\n",
       "zone.js-npm-tpischke                          1\n",
       "zone.js-npm-x00167885                         1\n",
       "zone.js-npm-zviadadze1                        1\n",
       "Length: 6941, dtype: int64"
      ]
     },
     "execution_count": 18,
     "metadata": {},
     "output_type": "execute_result"
    }
   ],
   "source": [
    "merged_df.groupby('modified_userlogin').size()\n"
   ]
  }
 ],
 "metadata": {
  "kernelspec": {
   "display_name": "Python 3",
   "language": "python",
   "name": "python3"
  },
  "language_info": {
   "codemirror_mode": {
    "name": "ipython",
    "version": 3
   },
   "file_extension": ".py",
   "mimetype": "text/x-python",
   "name": "python",
   "nbconvert_exporter": "python",
   "pygments_lexer": "ipython3",
   "version": "3.10.11"
  }
 },
 "nbformat": 4,
 "nbformat_minor": 2
}
